{
 "cells": [
  {
   "cell_type": "code",
   "execution_count": null,
   "metadata": {},
   "outputs": [],
   "source": [
    "<img style=\"float: right;\" width=\"120\" src=\"../Images/neueda-logo.jpeg\">\n",
    "<img style=\"float: left; margin-top: 0\" width=\"80\" src=\"../Images/citi-logo.png\">\n",
    "<br><br><br>\n",
    "\n",
    "# Data Science Essentials\n",
    "\n",
    "\n",
    "This notebook will explain the following topics and concepts:\n",
    "\n",
    "**1. The Dataflame environment**\n",
    "\n",
    "**2. Working with Jupyter notebooks**\n",
    "\n",
    "**3. Data Wrangling - Importing financial data and deriving new data**\n",
    "\n",
    "**4. Example Use Case - Deriving and Charting Bollinger Bands**\n",
    "  "
   ]
  }
 ],
 "metadata": {
  "kernelspec": {
   "display_name": "Python 3",
   "language": "python",
   "name": "python3"
  },
  "language_info": {
   "codemirror_mode": {
    "name": "ipython",
    "version": 3
   },
   "file_extension": ".py",
   "mimetype": "text/x-python",
   "name": "python",
   "nbconvert_exporter": "python",
   "pygments_lexer": "ipython3",
   "version": "3.6.8"
  }
 },
 "nbformat": 4,
 "nbformat_minor": 2
}
